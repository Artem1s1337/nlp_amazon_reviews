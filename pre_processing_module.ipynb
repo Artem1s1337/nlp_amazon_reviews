{
  "cells": [
    {
      "cell_type": "code",
      "execution_count": null,
      "metadata": {
        "colab": {
          "base_uri": "https://localhost:8080/"
        },
        "id": "K57ADDbdjtBc",
        "outputId": "242a473e-9516-454a-80e9-d466b1300503"
      },
      "outputs": [
        {
          "name": "stdout",
          "output_type": "stream",
          "text": [
            "Requirement already satisfied: langdetect in /usr/local/lib/python3.11/dist-packages (1.0.9)\n",
            "Requirement already satisfied: six in /usr/local/lib/python3.11/dist-packages (from langdetect) (1.17.0)\n"
          ]
        }
      ],
      "source": [
        "!pip install langdetect"
      ]
    },
    {
      "cell_type": "code",
      "execution_count": 96,
      "metadata": {
        "id": "qKeZCCB_-qVP"
      },
      "outputs": [],
      "source": [
        "import bz2\n",
        "import numpy as np\n",
        "import pandas as pd\n",
        "import re\n",
        "import string\n",
        "from textblob import TextBlob\n",
        "import nltk\n",
        "from nltk.corpus import stopwords"
      ]
    },
    {
      "cell_type": "code",
      "execution_count": 2,
      "metadata": {
        "colab": {
          "base_uri": "https://localhost:8080/"
        },
        "id": "krUVOFNcH1FK",
        "outputId": "dd8740ad-b586-4fc8-b363-3480857e414c"
      },
      "outputs": [
        {
          "output_type": "stream",
          "name": "stdout",
          "text": [
            "__label__2 Stuning even for the non-gamer: This sound track was beautiful! It paints the senery in your mind so well I would recomend it even to people who hate vid. game music! I have played the game Chrono Cross but out of all of the games I have ever played it has the best music! It backs away from crude keyboarding and takes a fresher step with grate guitars and soulful orchestras. It would impress anyone who cares to listen! ^_^\n",
            "__label__2 The best soundtrack ever to anything.: I'm reading a lot of reviews saying that this is the best 'game soundtrack' and I figured that I'd write a review to disagree a bit. This in my opinino is Yasunori Mitsuda's ultimate masterpiece. The music is timeless and I'm been listening to it for years now and its beauty simply refuses to fade.The price tag on this is pretty staggering I must say, but if you are going to buy any cd for this much money, this is the only one that I feel would be worth every penny.\n",
            "__label__2 Amazing!: This soundtrack is my favorite music of all time, hands down. The intense sadness of \"Prisoners of Fate\" (which means all the more if you've played the game) and the hope in \"A Distant Promise\" and \"Girl who Stole the Star\" have been an important inspiration to me personally throughout my teen years. The higher energy tracks like \"Chrono Cross ~ Time's Scar~\", \"Time of the Dreamwatch\", and \"Chronomantique\" (indefinably remeniscent of Chrono Trigger) are all absolutely superb as well.This soundtrack is amazing music, probably the best of this composer's work (I haven't heard the Xenogears soundtrack, so I can't say for sure), and even if you've never played the game, it would be worth twice the price to buy it.I wish I could give it 6 stars.\n",
            "__label__2 Excellent Soundtrack: I truly like this soundtrack and I enjoy video game music. I have played this game and most of the music on here I enjoy and it's truly relaxing and peaceful.On disk one. my favorites are Scars Of Time, Between Life and Death, Forest Of Illusion, Fortress of Ancient Dragons, Lost Fragment, and Drowned Valley.Disk Two: The Draggons, Galdorb - Home, Chronomantique, Prisoners of Fate, Gale, and my girlfriend likes ZelbessDisk Three: The best of the three. Garden Of God, Chronopolis, Fates, Jellyfish sea, Burning Orphange, Dragon's Prayer, Tower Of Stars, Dragon God, and Radical Dreamers - Unstealable Jewel.Overall, this is a excellent soundtrack and should be brought by those that like video game music.Xander Cross\n",
            "__label__2 Remember, Pull Your Jaw Off The Floor After Hearing it: If you've played the game, you know how divine the music is! Every single song tells a story of the game, it's that good! The greatest songs are without a doubt, Chrono Cross: Time's Scar, Magical Dreamers: The Wind, The Stars, and the Sea and Radical Dreamers: Unstolen Jewel. (Translation varies) This music is perfect if you ask me, the best it can be. Yasunori Mitsuda just poured his heart on and wrote it down on paper.\n"
          ]
        }
      ],
      "source": [
        "# Examine format of our data\n",
        "file = '/content/train.ft.txt.bz2'\n",
        "\n",
        "a = bz2.BZ2File(file)\n",
        "\n",
        "b = 0\n",
        "for i in a:\n",
        "    x = i.decode(encoding='utf-8').strip()\n",
        "    b += 1\n",
        "    print(x)  # We can see label separated by space from the review\n",
        "    if b == 5:\n",
        "        break"
      ]
    },
    {
      "cell_type": "code",
      "execution_count": 3,
      "metadata": {
        "id": "BcAFYHb_RnPD"
      },
      "outputs": [],
      "source": [
        "# Write data extraction function\n",
        "def get_data(file: str) -> pd.DataFrame:\n",
        "    # Crete list to collect data\n",
        "    data = list()\n",
        "    with bz2.open(file, 'rt', encoding='utf-8') as f:\n",
        "        for line in f:\n",
        "            parts = line.strip().split(' ', 1)  # separate by the first space\n",
        "            # Check the amount of parts\n",
        "            if len(parts) == 2:\n",
        "                label, text = parts\n",
        "\n",
        "                # Add the data to list\n",
        "                data.append((label, text))\n",
        "\n",
        "    # Create data frame\n",
        "    df = pd.DataFrame(\n",
        "        data,\n",
        "        columns=['label', 'text']\n",
        "    )\n",
        "    df.label = df.label.str.extract(r'(\\d+)').astype(int)  # convert label\n",
        "    return df"
      ]
    },
    {
      "cell_type": "code",
      "execution_count": 4,
      "metadata": {
        "id": "LO_hO_SWSVM8"
      },
      "outputs": [],
      "source": [
        "amazon_reviews_data = get_data(file)"
      ]
    },
    {
      "cell_type": "code",
      "execution_count": 5,
      "metadata": {
        "colab": {
          "base_uri": "https://localhost:8080/"
        },
        "id": "HmfePJMQbNJh",
        "outputId": "2b1c05d2-4050-448e-e442-1a5398fa4600"
      },
      "outputs": [
        {
          "output_type": "execute_result",
          "data": {
            "text/plain": [
              "3600000"
            ]
          },
          "metadata": {},
          "execution_count": 5
        }
      ],
      "source": [
        "len(amazon_reviews_data)"
      ]
    },
    {
      "cell_type": "code",
      "source": [
        "# Create a class for text processing bf tokenization, stemming and lemmatization\n",
        "class TextProcessing():\n",
        "\n",
        "    # Download 'stopwords' to handle stopwords\n",
        "    nltk.download('stopwords')\n",
        "    stopword = stopwords.words('english')  # add English language\n",
        "\n",
        "    def __init__(self):\n",
        "        # Set patterns for re module to handle special symbols\n",
        "        self.html_pattern = re.compile('<.*?>')\n",
        "        self.url_pattern = re.compile(r'https?://\\S+|www\\.\\S+')\n",
        "        self.hashtag_pattern = re.compile(r'\\@\\w+|\\#')\n",
        "        self.punctuations = string.punctuation\n",
        "\n",
        "    # Set the lowercase to text\n",
        "    def to_lowercase(self, text):\n",
        "        return str(text).lower()\n",
        "\n",
        "    # Remove html tags\n",
        "    def remove_html_tags(self, text):\n",
        "        return self.html_pattern.sub('', text)\n",
        "\n",
        "    # Remove links\n",
        "    def remove_url(self, text):\n",
        "        return self.url_pattern.sub('', text)\n",
        "\n",
        "    # Remove hashtags\n",
        "    def remove_hashtags(self, text):\n",
        "        return self.hashtag_pattern.sub('', text)\n",
        "\n",
        "    # Remove commas, dots, colons, etc.\n",
        "    def remove_punctuation(self, text):\n",
        "        return re.sub(f\"[{re.escape(self.punctuations)}]\", \" \", text)\n",
        "\n",
        "    # Correct spelling of the words\n",
        "    def spell_correction(self, text):\n",
        "        return ''.join(TextBlob(text))\n",
        "\n",
        "    # Remove emojies\n",
        "    def remove_emoji(self, text):\n",
        "        emoji_pattern = re.compile(\"[\"\n",
        "            u\"\\U0001F600-\\U0001F64F\"  # emoticons\n",
        "            u\"\\U0001F300-\\U0001F5FF\"  # symbols & pictographs\n",
        "            u\"\\U0001F680-\\U0001F6FF\"  # transport & map symbols\n",
        "            u\"\\U0001F1E0-\\U0001F1FF\"  # flags (iOS)\n",
        "            u\"\\U00002702-\\U000027B0\"\n",
        "            u\"\\U000024C2-\\U0001F251\"\n",
        "        \"]+\", flags=re.UNICODE)\n",
        "        return emoji_pattern.sub(r'', text)\n",
        "\n",
        "    # Remove stopwords\n",
        "    def remove_stopwords(self, text):\n",
        "        new_text = list()\n",
        "\n",
        "        for i in text.split():\n",
        "            if i in self.stopword:\n",
        "                new_text.append('')\n",
        "            else:\n",
        "                new_text.append(i)\n",
        "        x = new_text[:]\n",
        "        new_text.clear()\n",
        "        return ' '.join(x)\n",
        "\n",
        "    def remove_digits(self, text):\n",
        "        return re.sub(r'\\d+', '', text)\n",
        "\n",
        "    def remove_extra_spaces(self, text):\n",
        "        return re.sub(r'\\s+', ' ', text).strip()\n",
        "\n",
        "    # Create an aggregating function to use all the functions above\n",
        "    def cleaning(self, text):\n",
        "        text = self.to_lowercase(text)\n",
        "        text = self.remove_html_tags(text)\n",
        "        text = self.remove_hashtags(text)\n",
        "        text = self.remove_emoji(text)\n",
        "        text = self.remove_url(text)\n",
        "        text = self.remove_stopwords(text)\n",
        "        text = self.spell_correction(text)\n",
        "        text = self.remove_extra_spaces(text)\n",
        "        text = self.remove_digits(text)\n",
        "        text = self.remove_punctuation(text)\n",
        "        return text  # return the result text"
      ],
      "metadata": {
        "colab": {
          "base_uri": "https://localhost:8080/"
        },
        "id": "M79Eq59G3TFS",
        "outputId": "65d24fae-e66b-4bda-e8ba-0f6aab0838ff"
      },
      "execution_count": 233,
      "outputs": [
        {
          "output_type": "stream",
          "name": "stderr",
          "text": [
            "[nltk_data] Downloading package stopwords to /root/nltk_data...\n",
            "[nltk_data]   Package stopwords is already up-to-date!\n"
          ]
        }
      ]
    },
    {
      "cell_type": "code",
      "source": [
        "cleaning = TextProcessing()"
      ],
      "metadata": {
        "id": "IT8kzCLM5BNV"
      },
      "execution_count": 234,
      "outputs": []
    },
    {
      "cell_type": "code",
      "source": [
        "test_df = amazon_reviews_data.head(15)\n",
        "a = test_df['text'].apply(cleaning.cleaning)\n",
        "a.iloc[6]"
      ],
      "metadata": {
        "colab": {
          "base_uri": "https://localhost:8080/",
          "height": 70
        },
        "id": "BxUWOQNN5Dfl",
        "outputId": "73a68a28-2887-4aeb-bd10-f553711c8401"
      },
      "execution_count": 235,
      "outputs": [
        {
          "output_type": "execute_result",
          "data": {
            "text/plain": [
              "'buyer beware  self published book  want know why  read paragraphs   star reviews must written ms  haddon s family friends  or perhaps  herself  can t imagine anyone reading whole thing  i spent evening book friend hysterics reading bits pieces one another  definitely bad enough entered kind  worst book  contest  can t believe amazon even sells kind thing  maybe offer th grade term paper  to kill mockingbird   a book quite sure ms  haddon never heard of  anyway  unless mood send book someone joke   stay far  far away one '"
            ],
            "application/vnd.google.colaboratory.intrinsic+json": {
              "type": "string"
            }
          },
          "metadata": {},
          "execution_count": 235
        }
      ]
    },
    {
      "cell_type": "code",
      "source": [],
      "metadata": {
        "id": "EWupOhnZaGbd"
      },
      "execution_count": null,
      "outputs": []
    }
  ],
  "metadata": {
    "colab": {
      "gpuType": "T4",
      "provenance": []
    },
    "kernelspec": {
      "display_name": "Python 3",
      "name": "python3"
    },
    "language_info": {
      "name": "python"
    }
  },
  "nbformat": 4,
  "nbformat_minor": 0
}