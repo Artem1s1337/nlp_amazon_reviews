{
  "nbformat": 4,
  "nbformat_minor": 0,
  "metadata": {
    "colab": {
      "provenance": [],
      "authorship_tag": "ABX9TyNPzqt3anZGz9d8s/OzVIN/",
      "include_colab_link": true
    },
    "kernelspec": {
      "name": "python3",
      "display_name": "Python 3"
    },
    "language_info": {
      "name": "python"
    }
  },
  "cells": [
    {
      "cell_type": "markdown",
      "metadata": {
        "id": "view-in-github",
        "colab_type": "text"
      },
      "source": [
        "<a href=\"https://colab.research.google.com/github/Artem1s1337/nlp_amazon_reviews/blob/main/sentiment_analysis.ipynb\" target=\"_parent\"><img src=\"https://colab.research.google.com/assets/colab-badge.svg\" alt=\"Open In Colab\"/></a>"
      ]
    },
    {
      "cell_type": "code",
      "source": [
        "import pandas as pd\n",
        "import re\n",
        "import os\n",
        "from sklearn.model_selection import train_test_split\n",
        "from sklearn.linear_model import LogisticRegression\n",
        "from sklearn.pipeline import Pipeline\n",
        "from sklearn.feature_extraction.text import TfidfVectorizer\n",
        "from sklearn.metrics import classification_report\n",
        "from typing import List, Dict\n",
        "\n",
        "class SimpleSentimentAnalyzer:\n",
        "    def __init__(self):\n",
        "        self.model = None\n",
        "\n",
        "    def parse_fasttext_data(self, file_path: str) -> pd.DataFrame:\n",
        "        if not os.path.exists(file_path):\n",
        "            raise FileNotFoundError(f\"Файл {file_path} не найден\")\n",
        "\n",
        "        texts, labels = [], []\n",
        "\n",
        "        with open(file_path, 'r', encoding='utf-8') as f:\n",
        "            for line_num, line in enumerate(f, 1):\n",
        "                line = line.strip()\n",
        "                match = re.match(r'__label__(\\d+)\\s(.+)', line)\n",
        "                if match:\n",
        "                    label = int(match.group(1))\n",
        "                    text = match.group(2).strip()\n",
        "                    if text:\n",
        "                        texts.append(text)\n",
        "                        labels.append(label)\n",
        "                else:\n",
        "                    print(f\"⚠️  Неверный формат в строке {line_num}\")\n",
        "\n",
        "        if not texts:\n",
        "            raise ValueError(\"Нет валидных данных\")\n",
        "\n",
        "        print(f\"Загружено {len(texts)} примеров\")\n",
        "        return pd.DataFrame({'text': texts, 'label': labels})\n",
        "\n",
        "    def preprocess_text(self, text: str) -> str:\n",
        "        text = re.sub(r'\\s+', ' ', text)\n",
        "        return text.strip().lower()\n",
        "\n",
        "    def prepare_data(self, df: pd.DataFrame):\n",
        "        df[\"text\"] = df[\"text\"].apply(self.preprocess_text)\n",
        "        return train_test_split(df[\"text\"], df[\"label\"], test_size=0.2, random_state=42)\n",
        "\n",
        "    def train(self, X_train, y_train):\n",
        "        self.model = Pipeline([\n",
        "            ('tfidf', TfidfVectorizer(max_features=10000, ngram_range=(1,2))),\n",
        "            ('clf', LogisticRegression(max_iter=1000))\n",
        "        ])\n",
        "        print(\"Обучение модели...\")\n",
        "        self.model.fit(X_train, y_train)\n",
        "        print(\"Обучение завершено.\")\n",
        "\n",
        "    def evaluate(self, X_test, y_test):\n",
        "        print(\"Оценка модели:\")\n",
        "        preds = self.model.predict(X_test)\n",
        "        print(classification_report(y_test, preds))\n",
        "\n",
        "    def predict(self, texts: List[str]) -> List[Dict]:\n",
        "        processed = [self.preprocess_text(t) for t in texts]\n",
        "        predictions = self.model.predict(processed)\n",
        "        probs = self.model.predict_proba(processed)\n",
        "\n",
        "        results = []\n",
        "        for text, label, prob in zip(texts, predictions, probs):\n",
        "            results.append({\n",
        "                \"text\": text,\n",
        "                \"predicted_label\": label,\n",
        "                \"confidence\": max(prob)\n",
        "            })\n",
        "\n",
        "        return results\n",
        "\n",
        "def main():\n",
        "    analyzer = SimpleSentimentAnalyzer()\n",
        "    df = analyzer.parse_fasttext_data(\"/content/train.ft.txt\")\n",
        "\n",
        "    X_train, X_test, y_train, y_test = analyzer.prepare_data(df)\n",
        "\n",
        "    analyzer.train(X_train, y_train)\n",
        "    analyzer.evaluate(X_test, y_test)\n",
        "\n",
        "    texts = [\n",
        "        \"Very bad product\",\n",
        "        \"Absolutely wonderful! I’ll order again\",\n",
        "        \"It's okay, but I expected more\"\n",
        "    ]\n",
        "\n",
        "    preds = analyzer.predict(texts)\n",
        "    print(\"\\n🔮 Предсказания:\")\n",
        "    for p in preds:\n",
        "        print(f\"Текст: {p['text']}\")\n",
        "        print(f\"Оценка: {p['predicted_label']} (уверенность {p['confidence']:.2f})\")\n",
        "        print(\"-\" * 30)\n",
        "\n",
        "if __name__ == \"__main__\":\n",
        "    main()\n"
      ],
      "metadata": {
        "colab": {
          "base_uri": "https://localhost:8080/"
        },
        "id": "rkai265Vzzy9",
        "outputId": "10575046-8f54-4f8c-c29a-ff116869000a"
      },
      "execution_count": 11,
      "outputs": [
        {
          "output_type": "stream",
          "name": "stdout",
          "text": [
            "Загружено 3040000 примеров\n",
            "🔧 Обучение модели...\n",
            "✅ Обучение завершено.\n",
            "📊 Оценка модели:\n",
            "              precision    recall  f1-score   support\n",
            "\n",
            "           1       0.67      0.80      0.73     51181\n",
            "           2       0.47      0.21      0.29     27267\n",
            "           3       0.49      0.42      0.45     43163\n",
            "           4       0.61      0.35      0.44     79027\n",
            "           5       0.87      0.96      0.91    407362\n",
            "\n",
            "    accuracy                           0.80    608000\n",
            "   macro avg       0.62      0.55      0.56    608000\n",
            "weighted avg       0.77      0.80      0.78    608000\n",
            "\n",
            "\n",
            "🔮 Предсказания:\n",
            "Текст: Very bad product\n",
            "Оценка: 1 (уверенность 0.93)\n",
            "------------------------------\n",
            "Текст: Absolutely wonderful! I’ll order again\n",
            "Оценка: 5 (уверенность 0.99)\n",
            "------------------------------\n",
            "Текст: It's okay, but I expected more\n",
            "Оценка: 3 (уверенность 0.83)\n",
            "------------------------------\n"
          ]
        }
      ]
    },
    {
      "cell_type": "code",
      "source": [],
      "metadata": {
        "id": "nMEoNYgV21o4"
      },
      "execution_count": null,
      "outputs": []
    }
  ]
}